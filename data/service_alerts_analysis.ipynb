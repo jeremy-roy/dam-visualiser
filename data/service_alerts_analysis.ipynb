{
 "cells": [
  {
   "cell_type": "markdown",
   "id": "296b6468",
   "metadata": {},
   "source": [
    "This notebook analyzes the service alerts data from the City of Cape Town, both planned and unplanned, to provide a summary of alerts by service area."
   ]
  },
  {
   "cell_type": "code",
   "execution_count": 23,
   "id": "9a4714e6",
   "metadata": {},
   "outputs": [
    {
     "name": "stdout",
     "output_type": "stream",
     "text": [
      "publish_date\n",
      "2025-06-06T22:00:00.000Z    9\n",
      "2025-06-08T22:00:00.000Z    8\n",
      "2025-06-07T22:00:00.000Z    4\n",
      "2025-05-19T22:00:00.000Z    2\n",
      "2024-07-14T22:00:00.000Z    2\n",
      "Name: count, dtype: int64\n",
      "\n",
      "effective_date\n",
      "2025-06-06T22:00:00.000Z    9\n",
      "2025-06-08T22:00:00.000Z    8\n",
      "2025-06-07T22:00:00.000Z    4\n",
      "2025-05-20T22:00:00.000Z    2\n",
      "2024-07-14T22:00:00.000Z    2\n",
      "Name: count, dtype: int64\n",
      "\n",
      "expiry_date\n",
      "2025-06-09T22:00:00.000Z    20\n",
      "2025-06-11T22:00:00.000Z     2\n",
      "2025-06-16T22:00:00.000Z     1\n",
      "2027-04-15T22:00:00.000Z     1\n",
      "2027-07-15T22:00:00.000Z     1\n",
      "Name: count, dtype: int64\n",
      "\n",
      "start_timestamp\n",
      "2025-06-09T06:00:00.000Z    2\n",
      "2025-06-07T16:20:00.000Z    2\n",
      "2025-05-21T17:00:00.000Z    2\n",
      "2025-06-08T22:00:00.000Z    1\n",
      "2025-06-07T19:19:00.000Z    1\n",
      "2024-07-15T15:00:00.000Z    1\n",
      "2025-06-07T06:30:00.000Z    1\n",
      "2025-06-07T09:00:00.000Z    1\n",
      "2025-06-07T09:25:00.000Z    1\n",
      "2025-06-07T10:02:00.000Z    1\n",
      "2025-06-07T11:05:00.000Z    1\n",
      "2025-06-07T17:13:00.000Z    1\n",
      "2025-06-08T10:00:00.000Z    1\n",
      "2025-06-07T23:00:00.000Z    1\n",
      "2025-06-08T17:00:00.000Z    1\n",
      "2025-06-08T18:00:00.000Z    1\n",
      "2025-06-09T01:50:00.000Z    1\n",
      "2025-06-09T05:39:00.000Z    1\n",
      "2025-06-09T08:00:00.000Z    1\n",
      "2025-06-09T06:50:00.000Z    1\n",
      "2025-06-09T07:20:00.000Z    1\n",
      "2024-07-15T08:00:00.000Z    1\n",
      "Name: count, dtype: int64\n",
      "\n",
      "forecast_end_timestamp\n",
      "2025-06-09T21:00:00.000Z    8\n",
      "2025-06-16T16:00:00.000Z    1\n",
      "2025-06-11T02:30:00.000Z    1\n",
      "2025-06-11T02:00:00.000Z    1\n",
      "2025-06-09T13:20:00.000Z    1\n",
      "2025-06-09T12:50:00.000Z    1\n",
      "2025-06-09T11:39:00.000Z    1\n",
      "2025-06-09T07:50:00.000Z    1\n",
      "2025-06-09T01:00:00.000Z    1\n",
      "2025-06-09T00:00:00.000Z    1\n",
      "2025-06-09T05:00:00.000Z    1\n",
      "2025-06-09T16:00:00.000Z    1\n",
      "2025-06-09T21:13:00.000Z    1\n",
      "2027-04-15T19:00:00.000Z    1\n",
      "2027-07-15T12:00:00.000Z    1\n",
      "Name: count, dtype: int64\n",
      "\n"
     ]
    }
   ],
   "source": [
    "import json\n",
    "import pandas as pd\n",
    "from pathlib import Path\n",
    "import glob\n",
    "\n",
    "# Find the latest service alerts files\n",
    "service_alerts_dir = Path('service-alerts-data')\n",
    "planned_file = max(service_alerts_dir.glob('service_alerts_planned_*.json'))\n",
    "unplanned_file = max(service_alerts_dir.glob('service_alerts_unplanned_*.json'))\n",
    "\n",
    "# Read the JSON files\n",
    "with open(planned_file) as f:\n",
    "    planned_alerts = json.load(f)\n",
    "    \n",
    "with open(unplanned_file) as f:\n",
    "    unplanned_alerts = json.load(f)\n",
    "\n",
    "# Convert to DataFrames\n",
    "planned_df = pd.DataFrame(planned_alerts)\n",
    "unplanned_df = pd.DataFrame(unplanned_alerts)\n",
    "\n",
    "# Add a column to identify the alert type\n",
    "planned_df['alert_type'] = 'Planned'\n",
    "unplanned_df['alert_type'] = 'Unplanned'\n",
    "\n",
    "# Combine the dataframes\n",
    "all_alerts = pd.concat([planned_df, unplanned_df], ignore_index=True)\n",
    "\n",
    "# Count all alerts by date\n",
    "print(all_alerts['publish_date'].value_counts())\n",
    "print()\n",
    "\n",
    "# Count all alerts by date (Map display: effective_date >= today)\n",
    "print(all_alerts['effective_date'].value_counts())\n",
    "print()\n",
    "\n",
    "# Count all alerts by date\n",
    "print(all_alerts['expiry_date'].value_counts())\n",
    "print()\n",
    "\n",
    "# Count all alerts by date\n",
    "print(all_alerts['start_timestamp'].value_counts())\n",
    "print()\n",
    "\n",
    "# Count all alerts by date\n",
    "print(all_alerts['forecast_end_timestamp'].value_counts())\n",
    "print()\n"
   ]
  },
  {
   "cell_type": "markdown",
   "id": "4333ece2",
   "metadata": {},
   "source": [
    "Let's analyze the distribution of alerts across different service areas, split by planned vs unplanned:"
   ]
  },
  {
   "cell_type": "code",
   "execution_count": 24,
   "id": "cc5dd21d",
   "metadata": {},
   "outputs": [
    {
     "name": "stdout",
     "output_type": "stream",
     "text": [
      "Service Alerts Summary:\n",
      "------------------------------------------------------------\n",
      "alert_type                 Planned  Unplanned  Total\n",
      "service_area                                        \n",
      "Water & Sanitation               1         11     12\n",
      "Electricity                      0          9      9\n",
      "Drivers Licence Enquiries        0          2      2\n",
      "Roads and Stormwater             2          0      2\n",
      "\n",
      "Total Alerts: 25\n",
      "Planned Alerts: 3\n",
      "Unplanned Alerts: 22\n"
     ]
    }
   ],
   "source": [
    "# Create a pivot table\n",
    "service_area_summary = pd.pivot_table(\n",
    "    all_alerts,\n",
    "    values='Id',\n",
    "    index='service_area',\n",
    "    columns='alert_type',\n",
    "    aggfunc='count',\n",
    "    fill_value=0\n",
    ")\n",
    "\n",
    "# Add a total column\n",
    "service_area_summary['Total'] = service_area_summary.sum(axis=1)\n",
    "\n",
    "# Sort by total number of alerts\n",
    "service_area_summary = service_area_summary.sort_values('Total', ascending=False)\n",
    "\n",
    "print(\"Service Alerts Summary:\")\n",
    "print(\"-\" * 60)\n",
    "print(service_area_summary)\n",
    "print(\"\\nTotal Alerts:\", len(all_alerts))\n",
    "print(\"Planned Alerts:\", len(planned_df))\n",
    "print(\"Unplanned Alerts:\", len(unplanned_df))"
   ]
  },
  {
   "cell_type": "code",
   "execution_count": null,
   "id": "2da34fff",
   "metadata": {},
   "outputs": [],
   "source": []
  },
  {
   "cell_type": "markdown",
   "id": "e972497f",
   "metadata": {},
   "source": [
    "Let's create a bar chart to visualize the distribution of alerts by service area:"
   ]
  }
 ],
 "metadata": {
  "kernelspec": {
   "display_name": "Python 3",
   "language": "python",
   "name": "python3"
  },
  "language_info": {
   "codemirror_mode": {
    "name": "ipython",
    "version": 3
   },
   "file_extension": ".py",
   "mimetype": "text/x-python",
   "name": "python",
   "nbconvert_exporter": "python",
   "pygments_lexer": "ipython3",
   "version": "3.9.6"
  }
 },
 "nbformat": 4,
 "nbformat_minor": 5
}
