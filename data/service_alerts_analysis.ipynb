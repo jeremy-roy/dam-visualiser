{
 "cells": [
  {
   "cell_type": "markdown",
   "id": "296b6468",
   "metadata": {},
   "source": [
    "This notebook analyzes the service alerts data from the City of Cape Town, both planned and unplanned, to provide a summary of alerts by service area."
   ]
  },
  {
   "cell_type": "code",
   "execution_count": 11,
   "id": "9a4714e6",
   "metadata": {},
   "outputs": [
    {
     "name": "stdout",
     "output_type": "stream",
     "text": [
      "planned\n",
      "False    42\n",
      "True      7\n",
      "Name: count, dtype: int64\n",
      "\n",
      "service_area\n",
      "Water & Sanitation           19\n",
      "Electricity                  18\n",
      "Refuse                        9\n",
      "Roads and Stormwater          2\n",
      "Drivers Licence Enquiries     1\n",
      "Name: count, dtype: int64\n",
      "\n"
     ]
    },
    {
     "ename": "NameError",
     "evalue": "name 'publish_date' is not defined",
     "output_type": "error",
     "traceback": [
      "\u001b[0;31m---------------------------------------------------------------------------\u001b[0m",
      "\u001b[0;31mNameError\u001b[0m                                 Traceback (most recent call last)",
      "Cell \u001b[0;32mIn[11], line 39\u001b[0m\n\u001b[1;32m     35\u001b[0m \u001b[38;5;28mprint\u001b[39m(all_alerts[\u001b[38;5;124m'\u001b[39m\u001b[38;5;124mservice_area\u001b[39m\u001b[38;5;124m'\u001b[39m]\u001b[38;5;241m.\u001b[39mvalue_counts())\n\u001b[1;32m     37\u001b[0m \u001b[38;5;28mprint\u001b[39m()\n\u001b[0;32m---> 39\u001b[0m \u001b[43mpublish_date\u001b[49m\n\u001b[1;32m     40\u001b[0m \u001b[38;5;66;03m# Count all alerts by date\u001b[39;00m\n\u001b[1;32m     41\u001b[0m \u001b[38;5;28mprint\u001b[39m(all_alerts[\u001b[38;5;124m'\u001b[39m\u001b[38;5;124mpublish_date\u001b[39m\u001b[38;5;124m'\u001b[39m]\u001b[38;5;241m.\u001b[39mvalue_counts())\n",
      "\u001b[0;31mNameError\u001b[0m: name 'publish_date' is not defined"
     ]
    }
   ],
   "source": [
    "import json\n",
    "import pandas as pd\n",
    "from pathlib import Path\n",
    "import glob\n",
    "\n",
    "# Find the latest service alerts files\n",
    "service_alerts_dir = Path('service-alerts-data')\n",
    "planned_file = max(service_alerts_dir.glob('service_alerts_planned_*.json'))\n",
    "unplanned_file = max(service_alerts_dir.glob('service_alerts_unplanned_*.json'))\n",
    "\n",
    "# Read the JSON files\n",
    "with open(planned_file) as f:\n",
    "    planned_alerts = json.load(f)\n",
    "    \n",
    "with open(unplanned_file) as f:\n",
    "    unplanned_alerts = json.load(f)\n",
    "\n",
    "# Convert to DataFrames\n",
    "planned_df = pd.DataFrame(planned_alerts)\n",
    "unplanned_df = pd.DataFrame(unplanned_alerts)\n",
    "\n",
    "# Add a column to identify the alert type\n",
    "planned_df['alert_type'] = 'Planned'\n",
    "unplanned_df['alert_type'] = 'Unplanned'\n",
    "\n",
    "# Combine the dataframes\n",
    "all_alerts = pd.concat([planned_df, unplanned_df], ignore_index=True)\n",
    "\n",
    "# Count all alerts by planned / unplanned\n",
    "print(all_alerts['planned'].value_counts())\n",
    "\n",
    "print()\n",
    "\n",
    "# Count all alerts by service_area\n",
    "print(all_alerts['service_area'].value_counts())\n",
    "\n",
    "print()\n",
    "\n",
    "publish_date\n",
    "# Count all alerts by date\n",
    "print(all_alerts['publish_date'].value_counts())\n"
   ]
  },
  {
   "cell_type": "markdown",
   "id": "4333ece2",
   "metadata": {},
   "source": [
    "Let's analyze the distribution of alerts across different service areas, split by planned vs unplanned:"
   ]
  },
  {
   "cell_type": "code",
   "execution_count": null,
   "id": "cc5dd21d",
   "metadata": {},
   "outputs": [],
   "source": [
    "# Create a pivot table\n",
    "service_area_summary = pd.pivot_table(\n",
    "    all_alerts,\n",
    "    values='Id',\n",
    "    index='service_area',\n",
    "    columns='alert_type',\n",
    "    aggfunc='count',\n",
    "    fill_value=0\n",
    ")\n",
    "\n",
    "# Add a total column\n",
    "service_area_summary['Total'] = service_area_summary.sum(axis=1)\n",
    "\n",
    "# Sort by total number of alerts\n",
    "service_area_summary = service_area_summary.sort_values('Total', ascending=False)\n",
    "\n",
    "print(\"Service Alerts Summary:\")\n",
    "print(\"-\" * 60)\n",
    "print(service_area_summary)\n",
    "print(\"\\nTotal Alerts:\", len(all_alerts))\n",
    "print(\"Planned Alerts:\", len(planned_df))\n",
    "print(\"Unplanned Alerts:\", len(unplanned_df))"
   ]
  },
  {
   "cell_type": "markdown",
   "id": "e972497f",
   "metadata": {},
   "source": [
    "Let's create a bar chart to visualize the distribution of alerts by service area:"
   ]
  }
 ],
 "metadata": {
  "kernelspec": {
   "display_name": "Python 3",
   "language": "python",
   "name": "python3"
  },
  "language_info": {
   "codemirror_mode": {
    "name": "ipython",
    "version": 3
   },
   "file_extension": ".py",
   "mimetype": "text/x-python",
   "name": "python",
   "nbconvert_exporter": "python",
   "pygments_lexer": "ipython3",
   "version": "3.9.6"
  }
 },
 "nbformat": 4,
 "nbformat_minor": 5
}
