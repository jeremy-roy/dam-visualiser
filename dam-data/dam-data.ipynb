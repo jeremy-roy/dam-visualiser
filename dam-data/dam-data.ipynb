{
 "cells": [
  {
   "cell_type": "code",
   "execution_count": 57,
   "id": "d21a2636-dc40-4185-9574-342b8054b60b",
   "metadata": {
    "editable": true,
    "slideshow": {
     "slide_type": ""
    },
    "tags": []
   },
   "outputs": [
    {
     "name": "stderr",
     "output_type": "stream",
     "text": [
      "/var/folders/l4/wxbydyks55v97c1svmphzx_80000gn/T/ipykernel_14275/1382524482.py:13: UserWarning: Could not infer format, so each element will be parsed individually, falling back to `dateutil`. To ensure parsing is consistent and as-expected, please specify a format.\n",
      "  df['DATE'] = pd.to_datetime(df['DATE'])\n"
     ]
    }
   ],
   "source": [
    "import pandas as pd\n",
    "import geopandas as gpd\n",
    "import json\n",
    "from datetime import datetime\n",
    "from pandas._libs.tslibs.nattype import NaTType\n",
    "\n",
    "# --- Load data ---\n",
    "gdf = gpd.read_file(\"data/Bulk_Water_Dams.geojson\")\n",
    "df = pd.read_csv(\"data/Dam_Levels_from_2012.csv\", encoding=\"ISO-8859-1\")\n",
    "\n",
    "# --- Clean date column ---\n",
    "# df['DATE'] = pd.to_datetime(df['DATE'], format='%Y-%m-%d', errors='coerce')\n",
    "df['DATE'] = pd.to_datetime(df['DATE'])\n",
    "\n",
    "# Remove ALL whitespace from column names\n",
    "df.columns = df.columns.str.strip()\n",
    "df.columns = df.columns.str.replace(\"  \", \" \", regex=True)\n",
    "\n",
    "# --- Prepare mapping between GeoJSON NAME and CSV column prefix ---\n",
    "dam_name_mapping = {\n",
    "    \"Woodhead\": \"WOODHEAD\",\n",
    "    \"Hely-Hutchinson\": \"HELY-HUTCHINSON\",\n",
    "    \"Lewis Gay\": \"LEWIS GAY\",\n",
    "    \"Kleinplaats\": \"KLEINPLAATS\",\n",
    "    \"Victoria\": \"VICTORIA\",\n",
    "    \"Alexandra\": \"ALEXANDRA\",\n",
    "    \"De Villiers\": \"DE VILLIERS\",\n",
    "    \"Steenbras Lower\": \"STEENBRAS LOWER\",\n",
    "    \"Steenbras Upper\": \"STEENBRAS UPPER\",\n",
    "    \"Voëlvlei\": \"VOËLVLEI\",\n",
    "    \"Wemmershoek\": \"WEMMERSHOEK\",\n",
    "    \"Theewaterskloof\": \"THEEWATERSKLOOF\",\n",
    "    \"Berg River\": \"BERG RIVER\",\n",
    "    \"Land-en-Zeezicht Dam\": \"LAND-en ZEEZICHT\"\n",
    "}\n",
    "\n",
    "# --- Build output features ---\n",
    "features = []\n",
    "\n",
    "for _, row in gdf.iterrows():\n",
    "    dam_name = row[\"NAME\"]\n",
    "    csv_key = dam_name_mapping.get(dam_name)\n",
    "\n",
    "    if not csv_key:\n",
    "        continue  # Skip dams not found in CSV mapping\n",
    "\n",
    "    # Define expected columns\n",
    "    height_col = f\"{csv_key} HEIGHT(m)\" if f\"{csv_key} HEIGHT(m)\" in df.columns else f\"{csv_key} HEIGHT (m)\" if f\"{csv_key} HEIGHT (m)\" in df.columns else f\"{csv_key} HEIGHT\"\n",
    "    storage_col = f\"{csv_key} STORAGE(Ml)\" if f\"{csv_key} STORAGE(Ml)\" in df.columns else f\"{csv_key} STORAGE (Ml)\" if f\"{csv_key} STORAGE (Ml)\" in df.columns else f\"{csv_key} STORAGE\" if f\"{csv_key} STORAGE\" in df.columns else \"STEENBRAS STORAGE (Ml)\"\n",
    "    current_col = f\"{csv_key} Current%\" if f\"{csv_key} Current%\" in df.columns else f\"{csv_key} Current %\" if f\"{csv_key} Current %\" in df.columns else f\"{csv_key} Current\"\n",
    "    last_year_col = f\"{csv_key} Last Year%\" if f\"{csv_key} Last Year%\" in df.columns else f\"{csv_key} Last Year %\" if f\"{csv_key} Last Year %\" in df.columns else f\"{csv_key} Last Year\" if f\"{csv_key} Last Year\" in df.columns else f\"{csv_key}Last Year %\" if f\"{csv_key}Last Year %\" in df.columns else f\"{csv_key}Last Year%\"\n",
    "\n",
    "    # Extract timeseries\n",
    "    ts = df[['DATE', height_col, storage_col, current_col, last_year_col]].copy()\n",
    "    ts.columns = ['date', 'height_m', 'storage_ml', 'percent_full', 'last_year_percent_full']\n",
    "    ts.dropna(subset=['percent_full'], inplace=True)\n",
    "\n",
    "    # Format timeseries for output\n",
    "    ts['date'] = ts['date'].dt.strftime('%Y-%m-%d')  # Convert Timestamps to ISO strings\n",
    "    ts = ts.where(pd.notnull(ts), None)  # Replace all NaNs with None\n",
    "    timeseries = ts.to_dict(orient='records')\n",
    "\n",
    "    # Get most recent percent full\n",
    "    current_percentage_full = ts.sort_values(\"date\").iloc[-1][\"percent_full\"]\n",
    "\n",
    "    # Build feature\n",
    "    feature = {\n",
    "        \"type\": \"Feature\",\n",
    "        \"geometry\": row[\"geometry\"].__geo_interface__,\n",
    "        \"properties\": {\n",
    "            k: (\n",
    "                v.strftime('%Y-%m-%dT%H:%M:%SZ') if isinstance(v, pd.Timestamp)\n",
    "                else None if isinstance(v, NaTType)\n",
    "                else v\n",
    "            )\n",
    "            for k, v in row.drop(\"geometry\").items()\n",
    "        }\n",
    "    }\n",
    "    feature[\"properties\"][\"current_percentage_full\"] = current_percentage_full\n",
    "    feature[\"properties\"][\"timeseries\"] = timeseries\n",
    "\n",
    "    features.append(feature)\n",
    "\n",
    "\n",
    "\n",
    "\n",
    "\n",
    "# --- Build final GeoJSON ---\n",
    "output_geojson = {\n",
    "    \"type\": \"FeatureCollection\",\n",
    "    \"name\": \"SL_WTNK_BULK_DAMS_SYNC\",\n",
    "    \"crs\": {\n",
    "        \"type\": \"name\",\n",
    "        \"properties\": {\"name\": \"urn:ogc:def:crs:OGC:1.3:CRS84\"}\n",
    "    },\n",
    "    \"features\": features\n",
    "}\n",
    "\n",
    "# --- Save to file ---\n",
    "with open(\"output/Bulk_Water_Dams_Enriched.geojson\", \"w\") as f:\n",
    "    json.dump(output_geojson, f)"
   ]
  },
  {
   "cell_type": "code",
   "execution_count": null,
   "id": "7d393082-d55a-4f7e-bed8-24cc26e5d61e",
   "metadata": {
    "editable": true,
    "slideshow": {
     "slide_type": ""
    },
    "tags": []
   },
   "outputs": [],
   "source": []
  },
  {
   "cell_type": "code",
   "execution_count": null,
   "id": "9abd11b5-c5e7-42ac-93af-b77ffecdf76c",
   "metadata": {
    "editable": true,
    "slideshow": {
     "slide_type": ""
    },
    "tags": []
   },
   "outputs": [],
   "source": []
  }
 ],
 "metadata": {
  "kernelspec": {
   "display_name": "Python 3 (ipykernel)",
   "language": "python",
   "name": "python3"
  },
  "language_info": {
   "codemirror_mode": {
    "name": "ipython",
    "version": 3
   },
   "file_extension": ".py",
   "mimetype": "text/x-python",
   "name": "python",
   "nbconvert_exporter": "python",
   "pygments_lexer": "ipython3",
   "version": "3.9.6"
  },
  "toc": {
   "base_numbering": 0
  }
 },
 "nbformat": 4,
 "nbformat_minor": 5
}
