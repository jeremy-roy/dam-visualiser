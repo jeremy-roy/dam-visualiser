{
 "cells": [
  {
   "cell_type": "code",
   "execution_count": 106,
   "id": "da527870-de86-4f7e-918b-26cf9d0812fc",
   "metadata": {},
   "outputs": [],
   "source": [
    "import pandas as pd\n",
    "import geopandas as gpd\n",
    "import json\n",
    "import numpy as np\n",
    "from datetime import datetime\n",
    "import os\n",
    "\n",
    "# Load dam polygon GeoJSON\n",
    "gdf = gpd.read_file(\"data/2025-05-01/Bulk_Water_Dams.geojson\")\n",
    "\n",
    "# Load dam levels CSV, set date format\n",
    "df = pd.read_csv(\"data/2025-05-19/Dam_Levels_from_2012.csv\", encoding=\"ISO-8859-1\")\n",
    "df['DATE'] = df['DATE'].str.replace('Sept', 'Sep', regex=False)\n",
    "df['DATE'] = pd.to_datetime(df['DATE'], format='%d-%b-%y')\n",
    "\n",
    "# Clean column names\n",
    "df.columns = df.columns.str.strip().str.replace(r\"\\s+\", \"\", regex=True).str.lower()\n",
    "\n",
    "# Mapping from NAME in GeoJSON to CSV prefix (lowercase, no spaces)\n",
    "dam_name_mapping = {\n",
    "    \"Woodhead\": \"woodhead\",\n",
    "    \"Hely-Hutchinson\": \"hely-hutchinson\",\n",
    "    \"Lewis Gay\": \"lewisgay\",\n",
    "    \"Kleinplaats\": \"kleinplaats\",\n",
    "    \"Victoria\": \"victoria\",\n",
    "    \"Alexandra\": \"alexandra\",\n",
    "    \"De Villiers\": \"devilliers\",\n",
    "    \"Steenbras Lower\": \"steenbraslower\",\n",
    "    \"Steenbras Upper\": \"steenbrasupper\",\n",
    "    \"Voëlvlei\": \"voëlvlei\",\n",
    "    \"Wemmershoek\": \"wemmershoek\",\n",
    "    \"Theewaterskloof\": \"theewaterskloof\",\n",
    "    \"Berg River\": \"bergriver\",\n",
    "    \"Land-en-Zeezicht Dam\": \"land-enzeezicht\",\n",
    "    \"Big 5 Total\": \"totalstored-big5\",\n",
    "    \"Big 6 Total\": \"totalstored-big6\"\n",
    "}\n",
    "\n",
    "def build_timeseries(prefix):\n",
    "    # Find all columns related to this dam (that start with the prefix)\n",
    "    prefix_cols = [col for col in df.columns if col.startswith(prefix)]\n",
    "\n",
    "    def find_col(keyword):\n",
    "        # Look for a column that contains the keyword (case-insensitive)\n",
    "        matches = [col for col in prefix_cols if keyword in col]\n",
    "        return matches[0] if matches else None\n",
    "\n",
    "    # Find matching columns\n",
    "    height_col = find_col(\"height\")\n",
    "    storage_col = find_col(\"storage\")\n",
    "    current_col = find_col(\"current\")\n",
    "    last_year_col = find_col(\"lastyear\")\n",
    "\n",
    "    # If we find no relevant columns, return empty\n",
    "    if not any([height_col, storage_col, current_col, last_year_col]):\n",
    "        return [], None\n",
    "\n",
    "    # Build DataFrame\n",
    "    cols = {'date': 'date'}\n",
    "    if height_col: cols[height_col] = 'height_m'\n",
    "    if storage_col: cols[storage_col] = 'storage_ml'\n",
    "    if current_col: cols[current_col] = 'percent_full'\n",
    "    if last_year_col: cols[last_year_col] = 'last_year_percent_full'\n",
    "\n",
    "    col_keys = list(cols.keys())\n",
    "    ts = df[col_keys].copy()\n",
    "    # ts['date'] = pd.to_datetime(ts['date']).dt.strftime('%Y-%m-%d')  # ensure datetime\n",
    "    ts.rename(columns=cols, inplace=True)\n",
    "\n",
    "    # Ensure numeric columns are truly numeric\n",
    "    for col in ['height_m', 'storage_ml', 'percent_full', 'last_year_percent_full']:\n",
    "        if col in ts.columns:\n",
    "            ts[col] = pd.to_numeric(ts[col], errors='coerce')\n",
    "\n",
    "    # format nulls\n",
    "    ts = ts.where(pd.notnull(ts), None)\n",
    "\n",
    "    return ts\n",
    "\n",
    "\n",
    "# Create output containers\n",
    "dam_ts_daily = {}\n",
    "dam_ts_monthly = {}\n",
    "dam_ts_yearly = {}\n",
    "\n",
    "for dam_name, prefix in dam_name_mapping.items():\n",
    "    if dam_name == 'Woodhead':\n",
    "        df_ts = build_timeseries(prefix)\n",
    "\n",
    "    # DAILY\n",
    "    df_ts_sorted = df_ts.sort_values('date')\n",
    "    df_ts_sorted['date'] = df_ts_sorted['date'].dt.strftime('%Y-%m-%d')\n",
    "    dam_ts_daily[prefix] = df_ts_sorted.where(pd.notnull(df_ts_sorted), None).to_dict(orient='records')\n",
    "    \n",
    "    # MONTHLY\n",
    "    monthly = df_ts.resample('ME', on='date').mean(numeric_only=True).reset_index()\n",
    "    monthly['date'] = monthly['date'].dt.strftime('%Y-%m')\n",
    "    dam_ts_monthly[prefix] = monthly.where(pd.notnull(monthly), None).to_dict(orient='records')\n",
    "    \n",
    "    # YEARLY\n",
    "    yearly = df_ts.resample('YE', on='date').mean(numeric_only=True).reset_index()\n",
    "    yearly['date'] = yearly['date'].dt.strftime('%Y')\n",
    "    dam_ts_yearly[prefix] = yearly.where(pd.notnull(yearly), None).to_dict(orient='records')"
   ]
  },
  {
   "cell_type": "code",
   "execution_count": 108,
   "id": "76e30af7-6e16-427e-99b3-37a2f84f8532",
   "metadata": {},
   "outputs": [
    {
     "data": {
      "text/plain": [
       "{'date': '2000-01',\n",
       " 'height_m': 31.8271875,\n",
       " 'storage_ml': 492.60625,\n",
       " 'percent_full': 51.587208085,\n",
       " 'last_year_percent_full': 36.051371393636366}"
      ]
     },
     "execution_count": 108,
     "metadata": {},
     "output_type": "execute_result"
    }
   ],
   "source": [
    "dam_ts_monthly['woodhead'][0]"
   ]
  },
  {
   "cell_type": "code",
   "execution_count": 109,
   "id": "c03b9bc8-14e0-4155-838d-52370878985f",
   "metadata": {},
   "outputs": [
    {
     "data": {
      "text/plain": [
       "{'date': '2000',\n",
       " 'height_m': 30.411062670299728,\n",
       " 'storage_ml': 447.5024523160763,\n",
       " 'percent_full': 46.86380273495913,\n",
       " 'last_year_percent_full': 36.051371393636366}"
      ]
     },
     "execution_count": 109,
     "metadata": {},
     "output_type": "execute_result"
    }
   ],
   "source": [
    "dam_ts_yearly['woodhead'][0]"
   ]
  },
  {
   "cell_type": "code",
   "execution_count": 107,
   "id": "664f332e-8bc4-421f-b098-6ac18f763603",
   "metadata": {},
   "outputs": [
    {
     "data": {
      "text/plain": [
       "{'date': '2000-01-01',\n",
       " 'height_m': 30.58,\n",
       " 'storage_ml': 418.2,\n",
       " 'percent_full': 43.7951618,\n",
       " 'last_year_percent_full': nan}"
      ]
     },
     "execution_count": 107,
     "metadata": {},
     "output_type": "execute_result"
    }
   ],
   "source": [
    "dam_ts_daily['woodhead'][0]"
   ]
  },
  {
   "cell_type": "code",
   "execution_count": null,
   "id": "69c88eae-24e8-49f2-828e-1aaa5a72fa90",
   "metadata": {},
   "outputs": [],
   "source": []
  },
  {
   "cell_type": "code",
   "execution_count": 93,
   "id": "c27a3239-ada5-422d-bfdc-18ad393796ac",
   "metadata": {},
   "outputs": [
    {
     "data": {
      "text/html": [
       "<div>\n",
       "<style scoped>\n",
       "    .dataframe tbody tr th:only-of-type {\n",
       "        vertical-align: middle;\n",
       "    }\n",
       "\n",
       "    .dataframe tbody tr th {\n",
       "        vertical-align: top;\n",
       "    }\n",
       "\n",
       "    .dataframe thead th {\n",
       "        text-align: right;\n",
       "    }\n",
       "</style>\n",
       "<table border=\"1\" class=\"dataframe\">\n",
       "  <thead>\n",
       "    <tr style=\"text-align: right;\">\n",
       "      <th></th>\n",
       "      <th>date</th>\n",
       "    </tr>\n",
       "  </thead>\n",
       "  <tbody>\n",
       "    <tr>\n",
       "      <th>0</th>\n",
       "      <td>2000-01-31</td>\n",
       "    </tr>\n",
       "    <tr>\n",
       "      <th>1</th>\n",
       "      <td>2000-02-29</td>\n",
       "    </tr>\n",
       "    <tr>\n",
       "      <th>2</th>\n",
       "      <td>2000-03-31</td>\n",
       "    </tr>\n",
       "    <tr>\n",
       "      <th>3</th>\n",
       "      <td>2000-04-30</td>\n",
       "    </tr>\n",
       "    <tr>\n",
       "      <th>4</th>\n",
       "      <td>2000-05-31</td>\n",
       "    </tr>\n",
       "    <tr>\n",
       "      <th>...</th>\n",
       "      <td>...</td>\n",
       "    </tr>\n",
       "    <tr>\n",
       "      <th>300</th>\n",
       "      <td>2025-01-31</td>\n",
       "    </tr>\n",
       "    <tr>\n",
       "      <th>301</th>\n",
       "      <td>2025-02-28</td>\n",
       "    </tr>\n",
       "    <tr>\n",
       "      <th>302</th>\n",
       "      <td>2025-03-31</td>\n",
       "    </tr>\n",
       "    <tr>\n",
       "      <th>303</th>\n",
       "      <td>2025-04-30</td>\n",
       "    </tr>\n",
       "    <tr>\n",
       "      <th>304</th>\n",
       "      <td>2025-05-31</td>\n",
       "    </tr>\n",
       "  </tbody>\n",
       "</table>\n",
       "<p>305 rows × 1 columns</p>\n",
       "</div>"
      ],
      "text/plain": [
       "          date\n",
       "0   2000-01-31\n",
       "1   2000-02-29\n",
       "2   2000-03-31\n",
       "3   2000-04-30\n",
       "4   2000-05-31\n",
       "..         ...\n",
       "300 2025-01-31\n",
       "301 2025-02-28\n",
       "302 2025-03-31\n",
       "303 2025-04-30\n",
       "304 2025-05-31\n",
       "\n",
       "[305 rows x 1 columns]"
      ]
     },
     "execution_count": 93,
     "metadata": {},
     "output_type": "execute_result"
    }
   ],
   "source": []
  },
  {
   "cell_type": "code",
   "execution_count": null,
   "id": "3b7ca108-7c8d-488b-bbd6-b49f64af25e7",
   "metadata": {},
   "outputs": [],
   "source": []
  }
 ],
 "metadata": {
  "kernelspec": {
   "display_name": "Python 3 (ipykernel)",
   "language": "python",
   "name": "python3"
  },
  "language_info": {
   "codemirror_mode": {
    "name": "ipython",
    "version": 3
   },
   "file_extension": ".py",
   "mimetype": "text/x-python",
   "name": "python",
   "nbconvert_exporter": "python",
   "pygments_lexer": "ipython3",
   "version": "3.9.6"
  }
 },
 "nbformat": 4,
 "nbformat_minor": 5
}
