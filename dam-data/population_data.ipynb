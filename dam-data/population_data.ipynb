{
 "cells": [
  {
   "cell_type": "markdown",
   "id": "46b0deb9-e6e9-4512-9a46-8ba9ffc28a36",
   "metadata": {},
   "source": [
    "# Population Data"
   ]
  },
  {
   "cell_type": "code",
   "execution_count": 2,
   "id": "23b0079e-314a-4ae6-8eb3-df7f2f7b32ef",
   "metadata": {},
   "outputs": [],
   "source": [
    "# Population Data\n",
    "# https://www.macrotrends.net/global-metrics/cities/22481/cape-town/population"
   ]
  },
  {
   "cell_type": "code",
   "execution_count": null,
   "id": "065bc1ef-d614-4b9b-983d-a1c89fbbe98f",
   "metadata": {},
   "outputs": [],
   "source": []
  }
 ],
 "metadata": {
  "kernelspec": {
   "display_name": "Python 3 (ipykernel)",
   "language": "python",
   "name": "python3"
  },
  "language_info": {
   "codemirror_mode": {
    "name": "ipython",
    "version": 3
   },
   "file_extension": ".py",
   "mimetype": "text/x-python",
   "name": "python",
   "nbconvert_exporter": "python",
   "pygments_lexer": "ipython3",
   "version": "3.9.6"
  }
 },
 "nbformat": 4,
 "nbformat_minor": 5
}
