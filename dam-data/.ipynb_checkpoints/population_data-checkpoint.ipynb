{
 "cells": [
  {
   "cell_type": "markdown",
   "id": "46b0deb9-e6e9-4512-9a46-8ba9ffc28a36",
   "metadata": {},
   "source": [
    "# Population Data"
   ]
  },
  {
   "cell_type": "code",
   "execution_count": 1,
   "id": "23b0079e-314a-4ae6-8eb3-df7f2f7b32ef",
   "metadata": {},
   "outputs": [
    {
     "ename": "SyntaxError",
     "evalue": "invalid syntax (1919464640.py, line 2)",
     "output_type": "error",
     "traceback": [
      "\u001b[0;36m  Cell \u001b[0;32mIn[1], line 2\u001b[0;36m\u001b[0m\n\u001b[0;31m    https://www.macrotrends.net/global-metrics/cities/22481/cape-town/population\u001b[0m\n\u001b[0m          ^\u001b[0m\n\u001b[0;31mSyntaxError\u001b[0m\u001b[0;31m:\u001b[0m invalid syntax\n"
     ]
    }
   ],
   "source": [
    "# Population Data\n",
    "# https://www.macrotrends.net/global-metrics/cities/22481/cape-town/population"
   ]
  }
 ],
 "metadata": {
  "kernelspec": {
   "display_name": "Python 3 (ipykernel)",
   "language": "python",
   "name": "python3"
  },
  "language_info": {
   "codemirror_mode": {
    "name": "ipython",
    "version": 3
   },
   "file_extension": ".py",
   "mimetype": "text/x-python",
   "name": "python",
   "nbconvert_exporter": "python",
   "pygments_lexer": "ipython3",
   "version": "3.9.6"
  }
 },
 "nbformat": 4,
 "nbformat_minor": 5
}
